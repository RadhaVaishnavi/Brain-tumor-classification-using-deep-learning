{
  "nbformat": 4,
  "nbformat_minor": 0,
  "metadata": {
    "colab": {
      "provenance": [],
      "gpuType": "T4"
    },
    "kernelspec": {
      "name": "python3",
      "display_name": "Python 3"
    },
    "language_info": {
      "name": "python"
    },
    "accelerator": "GPU"
  },
  "cells": [
    {
      "cell_type": "code",
      "source": [
        "from keras.models import Sequential\n",
        "from keras.layers import Activation\n",
        "from keras.layers import Dense, Flatten\n",
        "from keras.optimizers import Adam\n",
        "from keras.callbacks import TensorBoard, EarlyStopping\n",
        "import keras.optimizers\n",
        "from sklearn.metrics import classification_report\n",
        "import keras.optimizers\n",
        "from keras.applications import vgg16\n",
        "import numpy as np\n",
        "import random\n",
        "import os\n",
        "from tqdm import tqdm\n",
        "import pickle\n",
        "import cv2"
      ],
      "metadata": {
        "id": "n6BZDIzIGrU1"
      },
      "execution_count": null,
      "outputs": []
    },
    {
      "cell_type": "code",
      "source": [
        "# Define necessary constants\n",
        "TEST_DIR = '/content/Brain-Tumor-Classification-DataSet/Testing'\n",
        "TRAIN_DIR = '/content/Brain-Tumor-Classification-DataSet/Training'\n",
        "IMG_SIZE = 224\n",
        "CATEGORIES = [\"glioma_tumor\",\"meningioma_tumor\",\"no_tumor\",\"pituitary_tumor\"]"
      ],
      "metadata": {
        "id": "jtpupRJFGz0s"
      },
      "execution_count": null,
      "outputs": []
    },
    {
      "cell_type": "code",
      "source": [
        "# Creating training dataset\n",
        "training_data = []\n",
        "\n",
        "def create_training_data():\n",
        "    for category in CATEGORIES:\n",
        "        path = os.path.join(TRAIN_DIR,category)\n",
        "        class_num = CATEGORIES.index(category)\n",
        "        for img in tqdm(os.listdir(path)):\n",
        "          img_array = cv2.imread(os.path.join(path,img) ,cv2.IMREAD_COLOR)\n",
        "          new_array = cv2.resize(img_array, (IMG_SIZE, IMG_SIZE))\n",
        "          training_data.append([new_array, class_num])\n",
        "\n",
        "    random.shuffle(training_data)\n",
        "\n",
        "create_training_data()\n",
        "#np.save('train_data.npy', training_data)\n",
        "print(len(training_data))\n",
        "\n",
        "print(\"train\")\n",
        "print()\n",
        "X_train = np.array([i[0] for i in training_data]).reshape(-1,IMG_SIZE,IMG_SIZE,3)\n",
        "Y_train = [i[1] for i in training_data]\n",
        "\n",
        "pickle_out = open(\"X_train.pickle\",\"wb\")\n",
        "pickle.dump(X_train, pickle_out)\n",
        "pickle_out.close()\n",
        "\n",
        "pickle_out = open(\"Y_train.pickle\",\"wb\")\n",
        "pickle.dump(Y_train, pickle_out)\n",
        "pickle_out.close()"
      ],
      "metadata": {
        "colab": {
          "base_uri": "https://localhost:8080/"
        },
        "id": "T-hYCCwpHqvK",
        "outputId": "a5c93a61-c26a-4634-c551-384f9fe3f152"
      },
      "execution_count": null,
      "outputs": [
        {
          "output_type": "stream",
          "name": "stderr",
          "text": [
            "100%|██████████| 826/826 [00:02<00:00, 346.27it/s]\n",
            "100%|██████████| 822/822 [00:02<00:00, 381.35it/s]\n",
            "100%|██████████| 395/395 [00:00<00:00, 468.43it/s]\n",
            "100%|██████████| 827/827 [00:02<00:00, 326.38it/s]\n"
          ]
        },
        {
          "output_type": "stream",
          "name": "stdout",
          "text": [
            "2870\n",
            "train\n",
            "\n"
          ]
        }
      ]
    },
    {
      "cell_type": "code",
      "source": [
        "# Creating testing dataset\n",
        "testing_data = []\n",
        "\n",
        "def create_testing_data():\n",
        "    for category in CATEGORIES:\n",
        "        path = os.path.join(TEST_DIR,category)\n",
        "        class_num = CATEGORIES.index(category)\n",
        "\n",
        "        for img in tqdm(os.listdir(path)):\n",
        "          img_array = cv2.imread(os.path.join(path,img) ,cv2.IMREAD_COLOR)\n",
        "          new_array = cv2.resize(img_array, (IMG_SIZE, IMG_SIZE))\n",
        "          testing_data.append([new_array, class_num])\n",
        "\n",
        "    random.shuffle(testing_data)\n",
        "\n",
        "create_testing_data()\n",
        "#np.save('testing_data.npy', testing_data)\n",
        "print(len(testing_data))\n",
        "\n",
        "print(\"testing\")\n",
        "print()\n",
        "X_test= np.array([i[0] for i in testing_data]).reshape(-1,IMG_SIZE,IMG_SIZE,3)\n",
        "Y_test = [i[1] for i in testing_data]\n",
        "\n",
        "pickle_out = open(\"X_test.pickle\",\"wb\")\n",
        "pickle.dump(X_test, pickle_out)\n",
        "pickle_out.close()\n",
        "\n",
        "pickle_out = open(\"Y_test.pickle\",\"wb\")\n",
        "pickle.dump(Y_test, pickle_out)\n",
        "pickle_out.close()"
      ],
      "metadata": {
        "colab": {
          "base_uri": "https://localhost:8080/"
        },
        "id": "GEvzt5DaH_kc",
        "outputId": "7ce640c2-3421-4015-b119-0ac02d89e1d5"
      },
      "execution_count": null,
      "outputs": [
        {
          "output_type": "stream",
          "name": "stderr",
          "text": [
            "100%|██████████| 100/100 [00:00<00:00, 408.38it/s]\n",
            "100%|██████████| 115/115 [00:00<00:00, 417.42it/s]\n",
            "100%|██████████| 105/105 [00:00<00:00, 576.87it/s]\n",
            "100%|██████████| 74/74 [00:00<00:00, 105.79it/s]\n"
          ]
        },
        {
          "output_type": "stream",
          "name": "stdout",
          "text": [
            "394\n",
            "testing\n",
            "\n"
          ]
        }
      ]
    },
    {
      "cell_type": "code",
      "source": [],
      "metadata": {
        "id": "Ao1YO_P3I8DV"
      },
      "execution_count": null,
      "outputs": []
    },
    {
      "cell_type": "code",
      "source": [
        "# TRAIN MODEL"
      ],
      "metadata": {
        "id": "3LnQd0myJJH8"
      },
      "execution_count": null,
      "outputs": []
    },
    {
      "cell_type": "code",
      "source": [
        "from keras.models import Sequential\n",
        "from keras.layers import Activation\n",
        "from keras.layers import Dense, Flatten\n",
        "from keras.optimizers import Adam\n",
        "from keras.callbacks import TensorBoard, EarlyStopping\n",
        "import keras.optimizers\n",
        "from sklearn.metrics import classification_report\n",
        "import keras.optimizers\n",
        "from keras.applications import vgg16\n",
        "import numpy as np"
      ],
      "metadata": {
        "id": "ib_u2VhvJJLZ"
      },
      "execution_count": null,
      "outputs": []
    },
    {
      "cell_type": "code",
      "source": [
        "tensorboard = TensorBoard(log_dir='./VGG16logs', histogram_freq=0,\n",
        "                          write_graph=True, write_images=False)\n",
        "es = EarlyStopping(monitor='val_loss', mode='min', verbose=1, patience=5)"
      ],
      "metadata": {
        "id": "GhuZi3GSJJh4"
      },
      "execution_count": null,
      "outputs": []
    },
    {
      "cell_type": "code",
      "source": [
        "# We'll use VGG16 to quickly define a model\n",
        "vgg16_model = vgg16.VGG16()\n",
        "vgg16_model.summary()\n",
        "type(vgg16_model)"
      ],
      "metadata": {
        "colab": {
          "base_uri": "https://localhost:8080/",
          "height": 1000
        },
        "id": "3PTNJwlsJLSB",
        "outputId": "a293cb12-203d-4c12-8266-6a08d52f97a3"
      },
      "execution_count": null,
      "outputs": [
        {
          "output_type": "stream",
          "name": "stdout",
          "text": [
            "Downloading data from https://storage.googleapis.com/tensorflow/keras-applications/vgg16/vgg16_weights_tf_dim_ordering_tf_kernels.h5\n",
            "553467096/553467096 [==============================] - 5s 0us/step\n",
            "Model: \"vgg16\"\n",
            "_________________________________________________________________\n",
            " Layer (type)                Output Shape              Param #   \n",
            "=================================================================\n",
            " input_1 (InputLayer)        [(None, 224, 224, 3)]     0         \n",
            "                                                                 \n",
            " block1_conv1 (Conv2D)       (None, 224, 224, 64)      1792      \n",
            "                                                                 \n",
            " block1_conv2 (Conv2D)       (None, 224, 224, 64)      36928     \n",
            "                                                                 \n",
            " block1_pool (MaxPooling2D)  (None, 112, 112, 64)      0         \n",
            "                                                                 \n",
            " block2_conv1 (Conv2D)       (None, 112, 112, 128)     73856     \n",
            "                                                                 \n",
            " block2_conv2 (Conv2D)       (None, 112, 112, 128)     147584    \n",
            "                                                                 \n",
            " block2_pool (MaxPooling2D)  (None, 56, 56, 128)       0         \n",
            "                                                                 \n",
            " block3_conv1 (Conv2D)       (None, 56, 56, 256)       295168    \n",
            "                                                                 \n",
            " block3_conv2 (Conv2D)       (None, 56, 56, 256)       590080    \n",
            "                                                                 \n",
            " block3_conv3 (Conv2D)       (None, 56, 56, 256)       590080    \n",
            "                                                                 \n",
            " block3_pool (MaxPooling2D)  (None, 28, 28, 256)       0         \n",
            "                                                                 \n",
            " block4_conv1 (Conv2D)       (None, 28, 28, 512)       1180160   \n",
            "                                                                 \n",
            " block4_conv2 (Conv2D)       (None, 28, 28, 512)       2359808   \n",
            "                                                                 \n",
            " block4_conv3 (Conv2D)       (None, 28, 28, 512)       2359808   \n",
            "                                                                 \n",
            " block4_pool (MaxPooling2D)  (None, 14, 14, 512)       0         \n",
            "                                                                 \n",
            " block5_conv1 (Conv2D)       (None, 14, 14, 512)       2359808   \n",
            "                                                                 \n",
            " block5_conv2 (Conv2D)       (None, 14, 14, 512)       2359808   \n",
            "                                                                 \n",
            " block5_conv3 (Conv2D)       (None, 14, 14, 512)       2359808   \n",
            "                                                                 \n",
            " block5_pool (MaxPooling2D)  (None, 7, 7, 512)         0         \n",
            "                                                                 \n",
            " flatten (Flatten)           (None, 25088)             0         \n",
            "                                                                 \n",
            " fc1 (Dense)                 (None, 4096)              102764544 \n",
            "                                                                 \n",
            " fc2 (Dense)                 (None, 4096)              16781312  \n",
            "                                                                 \n",
            " predictions (Dense)         (None, 1000)              4097000   \n",
            "                                                                 \n",
            "=================================================================\n",
            "Total params: 138357544 (527.79 MB)\n",
            "Trainable params: 138357544 (527.79 MB)\n",
            "Non-trainable params: 0 (0.00 Byte)\n",
            "_________________________________________________________________\n"
          ]
        },
        {
          "output_type": "execute_result",
          "data": {
            "text/plain": [
              "keras.src.engine.functional.Functional"
            ],
            "text/html": [
              "<div style=\"max-width:800px; border: 1px solid var(--colab-border-color);\"><style>\n",
              "      pre.function-repr-contents {\n",
              "        overflow-x: auto;\n",
              "        padding: 8px 12px;\n",
              "        max-height: 500px;\n",
              "      }\n",
              "\n",
              "      pre.function-repr-contents.function-repr-contents-collapsed {\n",
              "        cursor: pointer;\n",
              "        max-height: 100px;\n",
              "      }\n",
              "    </style>\n",
              "    <pre style=\"white-space: initial; background:\n",
              "         var(--colab-secondary-surface-color); padding: 8px 12px;\n",
              "         border-bottom: 1px solid var(--colab-border-color);\"><b>keras.src.engine.functional.Functional</b><br/>def error_handler(*args, **kwargs)</pre><pre class=\"function-repr-contents function-repr-contents-collapsed\" style=\"\"><a class=\"filepath\" style=\"display:none\" href=\"#\">/usr/local/lib/python3.10/dist-packages/keras/src/engine/functional.py</a>A `Functional` model is a `Model` defined as a directed graph of layers.\n",
              "\n",
              "Three types of `Model` exist: subclassed `Model`, `Functional` model,\n",
              "and `Sequential` (a special case of `Functional`).\n",
              "In general, more Keras features are supported with `Functional`\n",
              "than with subclassed `Model`s, specifically:\n",
              "\n",
              "- Model cloning (`keras.models.clone`)\n",
              "- Serialization (`model.get_config()/from_config`, `model.to_json()`\n",
              "- Whole-model saving (`model.save()`)\n",
              "\n",
              "A `Functional` model can be instantiated by passing two arguments to\n",
              "`__init__`. The first argument is the `keras.Input` Tensors that represent\n",
              "the inputs to the model. The second argument specifies the output\n",
              "tensors that represent the outputs of this model. Both arguments can be a\n",
              "nested structure of tensors.\n",
              "\n",
              "Example:\n",
              "\n",
              "```\n",
              "inputs = {&#x27;x1&#x27;: keras.Input(shape=(10,)), &#x27;x2&#x27;: keras.Input(shape=(1,))}\n",
              "t = keras.layers.Dense(1, activation=&#x27;relu&#x27;)(inputs[&#x27;x1&#x27;])\n",
              "outputs = keras.layers.Add()([t, inputs[&#x27;x2&#x27;])\n",
              "model = keras.Model(inputs, outputs)\n",
              "```\n",
              "\n",
              "A `Functional` model constructed using the Functional API can also include\n",
              "raw TensorFlow functions, with the exception of functions that create\n",
              "Variables or assign ops.\n",
              "\n",
              "Example:\n",
              "\n",
              "```python\n",
              "inputs = keras.Input(shape=(10,))\n",
              "x = keras.layers.Dense(1)(inputs)\n",
              "outputs = tf.nn.relu(x)\n",
              "model = keras.Model(inputs, outputs)\n",
              "```\n",
              "\n",
              "A new `Functional` model can also be created by using the\n",
              "intermediate tensors. This enables you to quickly extract sub-components\n",
              "of the model.\n",
              "\n",
              "Example:\n",
              "\n",
              "```python\n",
              "inputs = keras.Input(shape=(None, None, 3))\n",
              "processed = keras.layers.RandomCrop(width=32, height=32)(inputs)\n",
              "conv = keras.layers.Conv2D(filters=2, kernel_size=3)(processed)\n",
              "pooling = keras.layers.GlobalAveragePooling2D()(conv)\n",
              "feature = keras.layers.Dense(10)(pooling)\n",
              "\n",
              "full_model = keras.Model(inputs, feature)\n",
              "backbone = keras.Model(processed, conv)\n",
              "activations = keras.Model(conv, feature)\n",
              "```\n",
              "\n",
              "Note that the `backbone` and `activations` models are not\n",
              "created with `keras.Input` objects, but with the tensors that are originated\n",
              "from `keras.Input` objects. Under the hood, the layers and weights will\n",
              "be shared across these models, so that user can train the `full_model`, and\n",
              "use `backbone` or `activations` to do feature extraction.\n",
              "The inputs and outputs of the model can be nested structures of tensors as\n",
              "well, and the created models are standard `Functional` model that support\n",
              "all the existing API.\n",
              "\n",
              "Args:\n",
              "  inputs: List of input tensors (must be created via `tf.keras.Input()` or\n",
              "    originated from `tf.keras.Input()`).\n",
              "  outputs: List of output tensors.\n",
              "  name: String, optional. Name of the model.\n",
              "  trainable: Boolean, optional. If the model&#x27;s variables should be\n",
              "    trainable.</pre>\n",
              "      <script>\n",
              "      if (google.colab.kernel.accessAllowed && google.colab.files && google.colab.files.view) {\n",
              "        for (const element of document.querySelectorAll('.filepath')) {\n",
              "          element.style.display = 'block'\n",
              "          element.onclick = (event) => {\n",
              "            event.preventDefault();\n",
              "            event.stopPropagation();\n",
              "            google.colab.files.view(element.textContent, 49);\n",
              "          };\n",
              "        }\n",
              "      }\n",
              "      for (const element of document.querySelectorAll('.function-repr-contents')) {\n",
              "        element.onclick = (event) => {\n",
              "          event.preventDefault();\n",
              "          event.stopPropagation();\n",
              "          element.classList.toggle('function-repr-contents-collapsed');\n",
              "        };\n",
              "      }\n",
              "      </script>\n",
              "      </div>"
            ]
          },
          "metadata": {},
          "execution_count": 10
        }
      ]
    },
    {
      "cell_type": "code",
      "source": [],
      "metadata": {
        "id": "60ava8WlJPnS"
      },
      "execution_count": null,
      "outputs": []
    },
    {
      "cell_type": "code",
      "source": [
        "# Dropping last layers\n",
        "model = Sequential()\n",
        "for layer in vgg16_model.layers[:-3]:\n",
        "    model.add(layer)\n",
        "\n",
        "\n",
        "for layer in model.layers:\n",
        "    layer.trainable = True\n",
        "\n",
        "# Adding last Dense Layer\n",
        "model.add(Dense(4,activation = 'softmax'))\n",
        "model.summary()"
      ],
      "metadata": {
        "colab": {
          "base_uri": "https://localhost:8080/"
        },
        "id": "FgSH6nMfJYs4",
        "outputId": "9a6cf3ec-edca-4ebe-c179-d5e0c12d6e21"
      },
      "execution_count": null,
      "outputs": [
        {
          "output_type": "stream",
          "name": "stdout",
          "text": [
            "Model: \"sequential\"\n",
            "_________________________________________________________________\n",
            " Layer (type)                Output Shape              Param #   \n",
            "=================================================================\n",
            " block1_conv1 (Conv2D)       (None, 224, 224, 64)      1792      \n",
            "                                                                 \n",
            " block1_conv2 (Conv2D)       (None, 224, 224, 64)      36928     \n",
            "                                                                 \n",
            " block1_pool (MaxPooling2D)  (None, 112, 112, 64)      0         \n",
            "                                                                 \n",
            " block2_conv1 (Conv2D)       (None, 112, 112, 128)     73856     \n",
            "                                                                 \n",
            " block2_conv2 (Conv2D)       (None, 112, 112, 128)     147584    \n",
            "                                                                 \n",
            " block2_pool (MaxPooling2D)  (None, 56, 56, 128)       0         \n",
            "                                                                 \n",
            " block3_conv1 (Conv2D)       (None, 56, 56, 256)       295168    \n",
            "                                                                 \n",
            " block3_conv2 (Conv2D)       (None, 56, 56, 256)       590080    \n",
            "                                                                 \n",
            " block3_conv3 (Conv2D)       (None, 56, 56, 256)       590080    \n",
            "                                                                 \n",
            " block3_pool (MaxPooling2D)  (None, 28, 28, 256)       0         \n",
            "                                                                 \n",
            " block4_conv1 (Conv2D)       (None, 28, 28, 512)       1180160   \n",
            "                                                                 \n",
            " block4_conv2 (Conv2D)       (None, 28, 28, 512)       2359808   \n",
            "                                                                 \n",
            " block4_conv3 (Conv2D)       (None, 28, 28, 512)       2359808   \n",
            "                                                                 \n",
            " block4_pool (MaxPooling2D)  (None, 14, 14, 512)       0         \n",
            "                                                                 \n",
            " block5_conv1 (Conv2D)       (None, 14, 14, 512)       2359808   \n",
            "                                                                 \n",
            " block5_conv2 (Conv2D)       (None, 14, 14, 512)       2359808   \n",
            "                                                                 \n",
            " block5_conv3 (Conv2D)       (None, 14, 14, 512)       2359808   \n",
            "                                                                 \n",
            " block5_pool (MaxPooling2D)  (None, 7, 7, 512)         0         \n",
            "                                                                 \n",
            " flatten (Flatten)           (None, 25088)             0         \n",
            "                                                                 \n",
            " dense (Dense)               (None, 4)                 100356    \n",
            "                                                                 \n",
            "=================================================================\n",
            "Total params: 14815044 (56.51 MB)\n",
            "Trainable params: 14815044 (56.51 MB)\n",
            "Non-trainable params: 0 (0.00 Byte)\n",
            "_________________________________________________________________\n"
          ]
        }
      ]
    },
    {
      "cell_type": "code",
      "source": [
        "model.compile(loss='sparse_categorical_crossentropy',\n",
        "              optimizer= \"adam\",\n",
        "              metrics=['accuracy'],\n",
        "              )"
      ],
      "metadata": {
        "id": "MKLFV_CXJdeW"
      },
      "execution_count": null,
      "outputs": []
    },
    {
      "cell_type": "code",
      "source": [
        "X_train = X_train / 255.0\n",
        "X_test = X_test / 255.0\n",
        "\n",
        "Y_train = np.array(Y_train)\n",
        "Y_test = np.array(Y_test)"
      ],
      "metadata": {
        "id": "OqJLvXR1Jyq-"
      },
      "execution_count": null,
      "outputs": []
    },
    {
      "cell_type": "code",
      "source": [
        "history = model.fit(X_train, Y_train, batch_size=32, epochs=50)"
      ],
      "metadata": {
        "id": "BKZoAp9LaRRB",
        "colab": {
          "base_uri": "https://localhost:8080/"
        },
        "outputId": "45df4658-1522-43ea-bc9e-94a22c70acbe"
      },
      "execution_count": null,
      "outputs": [
        {
          "output_type": "stream",
          "name": "stdout",
          "text": [
            "Epoch 1/50\n",
            "90/90 [==============================] - 72s 519ms/step - loss: 1.5520 - accuracy: 0.3794\n",
            "Epoch 2/50\n",
            "90/90 [==============================] - 34s 382ms/step - loss: 0.9196 - accuracy: 0.6035\n",
            "Epoch 3/50\n",
            "90/90 [==============================] - 34s 377ms/step - loss: 0.7711 - accuracy: 0.6666\n",
            "Epoch 4/50\n",
            "90/90 [==============================] - 34s 378ms/step - loss: 0.6678 - accuracy: 0.7105\n",
            "Epoch 5/50\n",
            "90/90 [==============================] - 34s 380ms/step - loss: 0.5867 - accuracy: 0.7624\n",
            "Epoch 6/50\n",
            "90/90 [==============================] - 34s 378ms/step - loss: 0.5396 - accuracy: 0.7812\n",
            "Epoch 7/50\n",
            "90/90 [==============================] - 34s 378ms/step - loss: 0.5119 - accuracy: 0.7955\n",
            "Epoch 8/50\n",
            "90/90 [==============================] - 34s 380ms/step - loss: 0.4712 - accuracy: 0.8098\n",
            "Epoch 9/50\n",
            "90/90 [==============================] - 34s 380ms/step - loss: 0.3949 - accuracy: 0.8394\n",
            "Epoch 10/50\n",
            "90/90 [==============================] - 34s 380ms/step - loss: 0.3795 - accuracy: 0.8491\n",
            "Epoch 11/50\n",
            "90/90 [==============================] - 34s 379ms/step - loss: 0.3581 - accuracy: 0.8620\n",
            "Epoch 12/50\n",
            "90/90 [==============================] - 34s 379ms/step - loss: 0.3087 - accuracy: 0.8749\n",
            "Epoch 13/50\n",
            "90/90 [==============================] - 34s 380ms/step - loss: 0.2781 - accuracy: 0.8899\n",
            "Epoch 14/50\n",
            "90/90 [==============================] - 34s 378ms/step - loss: 0.2744 - accuracy: 0.8979\n",
            "Epoch 15/50\n",
            "90/90 [==============================] - 34s 378ms/step - loss: 0.2238 - accuracy: 0.9153\n",
            "Epoch 16/50\n",
            "90/90 [==============================] - 34s 379ms/step - loss: 0.2175 - accuracy: 0.9206\n",
            "Epoch 17/50\n",
            "90/90 [==============================] - 34s 378ms/step - loss: 0.1706 - accuracy: 0.9390\n",
            "Epoch 18/50\n",
            "90/90 [==============================] - 34s 378ms/step - loss: 0.1498 - accuracy: 0.9418\n",
            "Epoch 19/50\n",
            "90/90 [==============================] - 34s 378ms/step - loss: 0.1719 - accuracy: 0.9317\n",
            "Epoch 20/50\n",
            "90/90 [==============================] - 34s 378ms/step - loss: 0.1422 - accuracy: 0.9495\n",
            "Epoch 21/50\n",
            "90/90 [==============================] - 34s 377ms/step - loss: 0.1876 - accuracy: 0.9307\n",
            "Epoch 22/50\n",
            "90/90 [==============================] - 34s 377ms/step - loss: 0.1000 - accuracy: 0.9641\n",
            "Epoch 23/50\n",
            "90/90 [==============================] - 34s 377ms/step - loss: 0.0837 - accuracy: 0.9704\n",
            "Epoch 24/50\n",
            "90/90 [==============================] - 34s 377ms/step - loss: 0.0693 - accuracy: 0.9763\n",
            "Epoch 25/50\n",
            "90/90 [==============================] - 34s 377ms/step - loss: 0.1074 - accuracy: 0.9620\n",
            "Epoch 26/50\n",
            "90/90 [==============================] - 34s 376ms/step - loss: 0.1144 - accuracy: 0.9589\n",
            "Epoch 27/50\n",
            "90/90 [==============================] - 34s 377ms/step - loss: 0.0859 - accuracy: 0.9704\n",
            "Epoch 28/50\n",
            "90/90 [==============================] - 34s 377ms/step - loss: 0.0540 - accuracy: 0.9815\n",
            "Epoch 29/50\n",
            "90/90 [==============================] - 34s 377ms/step - loss: 0.0504 - accuracy: 0.9840\n",
            "Epoch 30/50\n",
            "90/90 [==============================] - 34s 378ms/step - loss: 0.0764 - accuracy: 0.9746\n",
            "Epoch 31/50\n",
            "90/90 [==============================] - 34s 377ms/step - loss: 0.0821 - accuracy: 0.9690\n",
            "Epoch 32/50\n",
            "90/90 [==============================] - 34s 376ms/step - loss: 0.1018 - accuracy: 0.9666\n",
            "Epoch 33/50\n",
            "90/90 [==============================] - 34s 377ms/step - loss: 0.0654 - accuracy: 0.9739\n",
            "Epoch 34/50\n",
            "90/90 [==============================] - 34s 376ms/step - loss: 0.0981 - accuracy: 0.9662\n",
            "Epoch 35/50\n",
            "90/90 [==============================] - 34s 376ms/step - loss: 0.0667 - accuracy: 0.9777\n",
            "Epoch 36/50\n",
            "90/90 [==============================] - 34s 376ms/step - loss: 0.0290 - accuracy: 0.9899\n",
            "Epoch 37/50\n",
            "90/90 [==============================] - 34s 377ms/step - loss: 0.0468 - accuracy: 0.9840\n",
            "Epoch 38/50\n",
            "90/90 [==============================] - 34s 375ms/step - loss: 0.0175 - accuracy: 0.9948\n",
            "Epoch 39/50\n",
            "90/90 [==============================] - 34s 375ms/step - loss: 0.0117 - accuracy: 0.9962\n",
            "Epoch 40/50\n",
            "90/90 [==============================] - 34s 375ms/step - loss: 0.1110 - accuracy: 0.9620\n",
            "Epoch 41/50\n",
            "90/90 [==============================] - 34s 375ms/step - loss: 0.0421 - accuracy: 0.9868\n",
            "Epoch 42/50\n",
            "90/90 [==============================] - 34s 376ms/step - loss: 0.0503 - accuracy: 0.9826\n",
            "Epoch 43/50\n",
            "90/90 [==============================] - 34s 375ms/step - loss: 0.0251 - accuracy: 0.9930\n",
            "Epoch 44/50\n",
            "90/90 [==============================] - 34s 375ms/step - loss: 0.1039 - accuracy: 0.9652\n",
            "Epoch 45/50\n",
            "90/90 [==============================] - 34s 375ms/step - loss: 0.1133 - accuracy: 0.9648\n",
            "Epoch 46/50\n",
            "90/90 [==============================] - 34s 375ms/step - loss: 0.0273 - accuracy: 0.9875\n",
            "Epoch 47/50\n",
            "90/90 [==============================] - 34s 375ms/step - loss: 0.0388 - accuracy: 0.9875\n",
            "Epoch 48/50\n",
            "90/90 [==============================] - 34s 375ms/step - loss: 0.0550 - accuracy: 0.9833\n",
            "Epoch 49/50\n",
            "90/90 [==============================] - 34s 375ms/step - loss: 0.0100 - accuracy: 0.9983\n",
            "Epoch 50/50\n",
            "90/90 [==============================] - 34s 375ms/step - loss: 9.6614e-04 - accuracy: 1.0000\n"
          ]
        }
      ]
    },
    {
      "cell_type": "code",
      "source": [
        "# Evaluate the model\n",
        "scores = model.evaluate(X_test, Y_test, verbose=1)\n",
        "print('Test loss:', scores[0])\n",
        "print('Test accuracy:', scores[1])"
      ],
      "metadata": {
        "id": "yTCXRDyaLuiV",
        "colab": {
          "base_uri": "https://localhost:8080/"
        },
        "outputId": "5bb893ee-dffc-4201-9e1c-8a820fd15b18"
      },
      "execution_count": null,
      "outputs": [
        {
          "output_type": "stream",
          "name": "stdout",
          "text": [
            "13/13 [==============================] - 4s 334ms/step - loss: 6.5314 - accuracy: 0.7360\n",
            "Test loss: 6.53139066696167\n",
            "Test accuracy: 0.7360405921936035\n"
          ]
        }
      ]
    },
    {
      "cell_type": "code",
      "source": [
        "model.save(\"model.h5\") # replace model.h5 in \"Runner\""
      ],
      "metadata": {
        "id": "rGc9yqpCP2QJ",
        "colab": {
          "base_uri": "https://localhost:8080/"
        },
        "outputId": "adb793ee-24b8-482d-f6e9-6966ddf17b64"
      },
      "execution_count": null,
      "outputs": [
        {
          "output_type": "stream",
          "name": "stderr",
          "text": [
            "/usr/local/lib/python3.10/dist-packages/keras/src/engine/training.py:3103: UserWarning: You are saving your model as an HDF5 file via `model.save()`. This file format is considered legacy. We recommend using instead the native Keras format, e.g. `model.save('my_model.keras')`.\n",
            "  saving_api.save_model(\n"
          ]
        }
      ]
    },
    {
      "cell_type": "code",
      "source": [
        "y_pred = model.predict(X_test, batch_size=64, verbose=1)\n",
        "y_pred_bool = np.argmax(y_pred, axis=1)\n",
        "print(classification_report(Y_test, y_pred_bool))"
      ],
      "metadata": {
        "id": "v0TQqB8aP2Sf",
        "colab": {
          "base_uri": "https://localhost:8080/"
        },
        "outputId": "4208459e-e179-41cd-a5e3-c532ea5f31b5"
      },
      "execution_count": null,
      "outputs": [
        {
          "output_type": "stream",
          "name": "stdout",
          "text": [
            "7/7 [==============================] - 12s 187ms/step\n",
            "              precision    recall  f1-score   support\n",
            "\n",
            "           0       0.91      0.21      0.34       100\n",
            "           1       0.71      0.97      0.82       115\n",
            "           2       0.68      1.00      0.81       105\n",
            "           3       0.88      0.70      0.78        74\n",
            "\n",
            "    accuracy                           0.74       394\n",
            "   macro avg       0.80      0.72      0.69       394\n",
            "weighted avg       0.79      0.74      0.69       394\n",
            "\n"
          ]
        }
      ]
    },
    {
      "cell_type": "code",
      "source": [
        "y_pred_bool"
      ],
      "metadata": {
        "colab": {
          "base_uri": "https://localhost:8080/"
        },
        "id": "I4r5ATvnEoa_",
        "outputId": "e31afd21-9a0b-4bf1-b99d-6bbfd33a51d9"
      },
      "execution_count": null,
      "outputs": [
        {
          "output_type": "execute_result",
          "data": {
            "text/plain": [
              "array([1, 1, 1, 3, 1, 3, 0, 2, 3, 3, 0, 2, 2, 2, 2, 3, 2, 2, 2, 1, 2, 1,\n",
              "       2, 0, 1, 1, 1, 1, 2, 1, 3, 2, 1, 2, 3, 2, 1, 2, 1, 0, 1, 1, 3, 2,\n",
              "       3, 1, 1, 2, 2, 1, 3, 3, 3, 2, 3, 1, 1, 2, 3, 2, 2, 2, 0, 2, 1, 1,\n",
              "       0, 1, 3, 1, 1, 3, 2, 1, 1, 2, 2, 1, 2, 2, 1, 1, 2, 1, 2, 2, 2, 2,\n",
              "       2, 1, 1, 2, 1, 2, 1, 2, 1, 2, 3, 2, 2, 1, 2, 1, 1, 1, 3, 2, 3, 1,\n",
              "       3, 1, 1, 1, 1, 0, 1, 2, 2, 1, 1, 1, 1, 3, 1, 1, 1, 1, 1, 1, 2, 2,\n",
              "       2, 2, 2, 3, 2, 2, 1, 1, 1, 2, 0, 2, 1, 0, 2, 1, 1, 1, 0, 1, 1, 0,\n",
              "       1, 1, 3, 1, 3, 1, 3, 1, 2, 1, 1, 1, 3, 3, 1, 3, 2, 1, 2, 2, 2, 3,\n",
              "       2, 2, 0, 3, 2, 1, 1, 2, 0, 0, 1, 1, 2, 1, 2, 2, 3, 1, 2, 3, 2, 2,\n",
              "       1, 2, 1, 2, 1, 1, 0, 2, 3, 2, 2, 0, 1, 2, 2, 0, 2, 2, 2, 2, 1, 2,\n",
              "       1, 1, 2, 2, 2, 1, 3, 3, 2, 2, 1, 2, 1, 2, 1, 3, 2, 2, 2, 1, 1, 1,\n",
              "       2, 1, 1, 3, 2, 3, 3, 2, 1, 2, 1, 1, 1, 1, 1, 3, 1, 1, 2, 2, 1, 3,\n",
              "       2, 2, 1, 2, 2, 2, 2, 2, 3, 1, 1, 2, 3, 1, 2, 1, 1, 1, 2, 2, 2, 2,\n",
              "       2, 2, 1, 3, 1, 2, 2, 2, 1, 2, 1, 1, 1, 2, 1, 1, 1, 1, 2, 3, 1, 2,\n",
              "       2, 0, 2, 0, 2, 2, 1, 2, 1, 2, 0, 1, 2, 1, 2, 2, 2, 2, 1, 2, 1, 3,\n",
              "       3, 3, 1, 0, 2, 3, 1, 2, 1, 1, 1, 2, 1, 2, 1, 0, 1, 0, 2, 3, 1, 2,\n",
              "       3, 1, 1, 1, 1, 2, 2, 3, 1, 2, 1, 1, 1, 2, 3, 2, 2, 2, 3, 1, 3, 1,\n",
              "       1, 2, 3, 2, 1, 2, 2, 2, 3, 1, 2, 1, 2, 1, 3, 1, 2, 2, 3, 1])"
            ]
          },
          "metadata": {},
          "execution_count": 18
        }
      ]
    },
    {
      "cell_type": "code",
      "source": [],
      "metadata": {
        "id": "nDwnoMjDEwCq"
      },
      "execution_count": null,
      "outputs": []
    }
  ]
}